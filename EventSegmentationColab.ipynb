{
  "nbformat": 4,
  "nbformat_minor": 0,
  "metadata": {
    "colab": {
      "name": "Untitled1.ipynb",
      "version": "0.3.2",
      "provenance": [],
      "include_colab_link": true
    },
    "kernelspec": {
      "name": "python3",
      "display_name": "Python 3"
    }
  },
  "cells": [
    {
      "cell_type": "markdown",
      "metadata": {
        "id": "view-in-github",
        "colab_type": "text"
      },
      "source": [
        "<a href=\"https://colab.research.google.com/github/SudeepSarkar/EventSegmentation/blob/master/EventSegmentationColab.ipynb\" target=\"_parent\"><img src=\"https://colab.research.google.com/assets/colab-badge.svg\" alt=\"Open In Colab\"/></a>"
      ]
    },
    {
      "cell_type": "code",
      "metadata": {
        "id": "dSxLE5L5jVnB",
        "colab_type": "code",
        "outputId": "3375861c-3025-40c4-d647-09f13bf83cba",
        "colab": {
          "base_uri": "https://localhost:8080/",
          "height": 139
        }
      },
      "source": [
        "!git clone https://github.com/SudeepSarkar/EventSegmentation"
      ],
      "execution_count": 1,
      "outputs": [
        {
          "output_type": "stream",
          "text": [
            "Cloning into 'EventSegmentation'...\n",
            "remote: Enumerating objects: 113, done.\u001b[K\n",
            "remote: Counting objects: 100% (113/113), done.\u001b[K\n",
            "remote: Compressing objects: 100% (99/99), done.\u001b[K\n",
            "remote: Total 113 (delta 62), reused 23 (delta 11), pack-reused 0\u001b[K\n",
            "Receiving objects: 100% (113/113), 10.03 MiB | 15.75 MiB/s, done.\n",
            "Resolving deltas: 100% (62/62), done.\n"
          ],
          "name": "stdout"
        }
      ]
    },
    {
      "cell_type": "code",
      "metadata": {
        "id": "9kYcH2m7evPk",
        "colab_type": "code",
        "colab": {
          "base_uri": "https://localhost:8080/",
          "height": 34
        },
        "outputId": "6ea2a3be-7989-4b37-c8e1-75d0fc4d4ba6"
      },
      "source": [
        "%cd EventSegmentation/"
      ],
      "execution_count": 3,
      "outputs": [
        {
          "output_type": "stream",
          "text": [
            "/content/EventSegmentation\n"
          ],
          "name": "stdout"
        }
      ]
    },
    {
      "cell_type": "code",
      "metadata": {
        "id": "-YvPZ-rghMSi",
        "colab_type": "code",
        "colab": {}
      },
      "source": [
        "!mkdir newCaledonia"
      ],
      "execution_count": 0,
      "outputs": []
    },
    {
      "cell_type": "code",
      "metadata": {
        "id": "S_Fv69Y3glV0",
        "colab_type": "code",
        "outputId": "42d4474b-055f-49bf-a00a-578a119845da",
        "colab": {
          "base_uri": "https://localhost:8080/",
          "height": 34
        }
      },
      "source": [
        "%cd newCaledonia\n",
        "!mkdir 08-08-17_BirdSequences_13-39_seq_12-19"
      ],
      "execution_count": 5,
      "outputs": [
        {
          "output_type": "stream",
          "text": [
            "/content/EventSegmentation/newCaledonia\n"
          ],
          "name": "stdout"
        }
      ]
    },
    {
      "cell_type": "code",
      "metadata": {
        "id": "pYxfYV0bhIuJ",
        "colab_type": "code",
        "colab": {}
      },
      "source": [
        "!mv ../../Frame* ."
      ],
      "execution_count": 0,
      "outputs": []
    }
  ]
}